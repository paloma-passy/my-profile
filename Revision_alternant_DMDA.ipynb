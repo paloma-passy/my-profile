{
  "nbformat": 4,
  "nbformat_minor": 0,
  "metadata": {
    "colab": {
      "provenance": [],
      "include_colab_link": true
    },
    "kernelspec": {
      "name": "python3",
      "display_name": "Python 3"
    },
    "language_info": {
      "name": "python"
    }
  },
  "cells": [
    {
      "cell_type": "markdown",
      "metadata": {
        "id": "view-in-github",
        "colab_type": "text"
      },
      "source": [
        "<a href=\"https://colab.research.google.com/github/paloma-passy/my-profile/blob/main/Revision_alternant_DMDA.ipynb\" target=\"_parent\"><img src=\"https://colab.research.google.com/assets/colab-badge.svg\" alt=\"Open In Colab\"/></a>"
      ]
    },
    {
      "cell_type": "code",
      "execution_count": null,
      "metadata": {
        "id": "4XQjQHxd8_bd"
      },
      "outputs": [],
      "source": []
    },
    {
      "cell_type": "markdown",
      "source": [
        "# Révision - Alternant DMDA"
      ],
      "metadata": {
        "id": "AGSynmOs9Bkz"
      }
    },
    {
      "cell_type": "markdown",
      "source": [
        "## Variables et Types de Données\n",
        "\n",
        "- Variables: noms qui stockent des valeurs\n",
        "- Types de base: int, float, str, bool\n",
        "- Listes, tuples, dictionnaires"
      ],
      "metadata": {
        "id": "gyeacrNY9J0H"
      }
    },
    {
      "cell_type": "markdown",
      "source": [
        "### Exercice 1"
      ],
      "metadata": {
        "id": "z_uZOdbn9qlx"
      }
    },
    {
      "cell_type": "code",
      "source": [
        "#1. Créez une variable `age` de type entier et assignez-lui votre âge.\n"
      ],
      "metadata": {
        "id": "lPfek7GE9FXi"
      },
      "execution_count": null,
      "outputs": []
    },
    {
      "cell_type": "code",
      "source": [
        "# 2. Créez une variable `taille` de type float représentant votre taille en mètres.\n"
      ],
      "metadata": {
        "id": "Co_t7lyk9Ffi"
      },
      "execution_count": null,
      "outputs": []
    },
    {
      "cell_type": "code",
      "source": [
        "#3. Créez une variable `nom` de type string contenant votre prénom.\n"
      ],
      "metadata": {
        "id": "6v_nS2-99FjK"
      },
      "execution_count": null,
      "outputs": []
    },
    {
      "cell_type": "code",
      "source": [
        "# 4. Créez une liste `notes` contenant 3 notes (nombres) de votre choix.\n"
      ],
      "metadata": {
        "id": "gqFQYMTB9y2N"
      },
      "execution_count": null,
      "outputs": []
    },
    {
      "cell_type": "code",
      "source": [
        "# 5. Créez un dictionnaire `etudiant` avec les clés 'nom', 'age', 'notes' en utilisant les variables précédentes.\n"
      ],
      "metadata": {
        "id": "tJf0ALJ-90zy"
      },
      "execution_count": null,
      "outputs": []
    },
    {
      "cell_type": "code",
      "source": [
        "# 6. Affichez le contenu du dictionnaire `etudiant`.\n"
      ],
      "metadata": {
        "id": "J79ueVzi943A"
      },
      "execution_count": null,
      "outputs": []
    },
    {
      "cell_type": "markdown",
      "source": [
        "## Exercice 1.1\n",
        "\n",
        "Créez une chaîne de caractères contenant une phrase. Effectuez les opérations suivantes :\n"
      ],
      "metadata": {
        "id": "1SyAhDW8AAdE"
      }
    },
    {
      "cell_type": "code",
      "source": [
        "phrase = \"Le machine learning est passionnant et utile.\""
      ],
      "metadata": {
        "id": "IXl5Ep63AQlc"
      },
      "execution_count": null,
      "outputs": []
    },
    {
      "cell_type": "code",
      "source": [
        "\n",
        "#Affichez la longueur de la chaîne.\n"
      ],
      "metadata": {
        "id": "nei0Zhqf__f6"
      },
      "execution_count": null,
      "outputs": []
    },
    {
      "cell_type": "code",
      "source": [
        "#Convertissez la chaîne en majuscules.\n"
      ],
      "metadata": {
        "id": "d4fZkSQi__jR"
      },
      "execution_count": null,
      "outputs": []
    },
    {
      "cell_type": "code",
      "source": [
        "#Remplacez un mot de votre choix par un autre.\n"
      ],
      "metadata": {
        "id": "6BmBq3C4__mI"
      },
      "execution_count": null,
      "outputs": []
    },
    {
      "cell_type": "code",
      "source": [
        "#Divisez la phrase en une liste de mots."
      ],
      "metadata": {
        "id": "quqwglk___o_"
      },
      "execution_count": null,
      "outputs": []
    },
    {
      "cell_type": "code",
      "source": [],
      "metadata": {
        "id": "gy7Jd-nt__r_"
      },
      "execution_count": null,
      "outputs": []
    },
    {
      "cell_type": "markdown",
      "source": [
        "# Exercice 1.2"
      ],
      "metadata": {
        "id": "4JTuKFvAAVqi"
      }
    },
    {
      "cell_type": "code",
      "source": [
        "#Créez une liste de 5 fruits.\n"
      ],
      "metadata": {
        "id": "fbiODhAqAYEN"
      },
      "execution_count": null,
      "outputs": []
    },
    {
      "cell_type": "code",
      "source": [
        "#Ajoutez un fruit à la fin de la liste.\n"
      ],
      "metadata": {
        "id": "SgpmQjQZAYHQ"
      },
      "execution_count": null,
      "outputs": []
    },
    {
      "cell_type": "code",
      "source": [
        "#Insérez un fruit à la deuxième position.\n"
      ],
      "metadata": {
        "id": "BBCKxMfdAYKI"
      },
      "execution_count": null,
      "outputs": []
    },
    {
      "cell_type": "code",
      "source": [
        "#Créez un dictionnaire associant chaque fruit à sa couleur.\n"
      ],
      "metadata": {
        "id": "T6DRos4vAeYh"
      },
      "execution_count": null,
      "outputs": []
    },
    {
      "cell_type": "code",
      "source": [
        "#Affichez la couleur d'un fruit spécifique."
      ],
      "metadata": {
        "id": "tl0E09oxAeg1"
      },
      "execution_count": null,
      "outputs": []
    },
    {
      "cell_type": "code",
      "source": [],
      "metadata": {
        "id": "9LbmzLJxAejz"
      },
      "execution_count": null,
      "outputs": []
    },
    {
      "cell_type": "markdown",
      "source": [
        "## Les structutres de données\n",
        "\n",
        "- Conditions: if, elif, else\n",
        "- Boucles: for, while\n"
      ],
      "metadata": {
        "id": "a8bFV0ho-BAY"
      }
    },
    {
      "cell_type": "markdown",
      "source": [
        "## Exercice 2\n",
        "Nous allons créer une fonction `classement` qui évalue une note. Suivez ces étapes :\n"
      ],
      "metadata": {
        "id": "ukwHvJSU968X"
      }
    },
    {
      "cell_type": "code",
      "source": [
        "# 1. Définissez la fonction `classement` qui prend un paramètre `note`.\n"
      ],
      "metadata": {
        "id": "zq6OTHSq99Pw"
      },
      "execution_count": null,
      "outputs": []
    },
    {
      "cell_type": "code",
      "source": [
        "# 2. Ajoutez les conditions pour chaque niveau de classement :\n",
        "# si la note est supérieur à 18 retourner excellent, entre 18 et 16 => très bien et ainsi de suite"
      ],
      "metadata": {
        "id": "8pEoIEVj-Lu6"
      },
      "execution_count": null,
      "outputs": []
    },
    {
      "cell_type": "code",
      "source": [
        "# 3. Testez votre fonction avec différentes notes 19, 14, 10 :"
      ],
      "metadata": {
        "id": "tT6WJ0sY-aWz"
      },
      "execution_count": null,
      "outputs": []
    },
    {
      "cell_type": "markdown",
      "source": [
        "# Les fonctions\n",
        "\n",
        "- Définition d'une fonction\n",
        "- Arguments et valeurs de retour\n",
        "- Fonctions lambda"
      ],
      "metadata": {
        "id": "T6e2XLXy-qgC"
      }
    },
    {
      "cell_type": "markdown",
      "source": [
        "### Exercice 3"
      ],
      "metadata": {
        "id": "Hb2lzscS-vSo"
      }
    },
    {
      "cell_type": "code",
      "source": [
        "# 1. Créez une fonction `moyenne` qui calcule la moyenne d'une liste de nombres :\n"
      ],
      "metadata": {
        "id": "KHQ3nMek-xc3"
      },
      "execution_count": null,
      "outputs": []
    },
    {
      "cell_type": "code",
      "source": [
        "   # Test de la fonction"
      ],
      "metadata": {
        "id": "sIO3veC5-8qg"
      },
      "execution_count": null,
      "outputs": []
    },
    {
      "cell_type": "code",
      "source": [
        "# 2. Utilisez une fonction lambda pour trier une liste de tuples par note décroissante :\n",
        "#compléter la proposition\n",
        "etudiants_tries = sorted($$$$$$$$ , key=lambda x: x[1], reverse=$$$$$)\n",
        "print($$$$$$)"
      ],
      "metadata": {
        "id": "nhQzMNTF-9Ek"
      },
      "execution_count": null,
      "outputs": []
    },
    {
      "cell_type": "markdown",
      "source": [
        "# Exercice 3.2"
      ],
      "metadata": {
        "id": "iSqqTFEHAplj"
      }
    },
    {
      "cell_type": "markdown",
      "source": [
        "Créez une fonction salutation qui prend en paramètre un nom et un message, avec un message par défaut."
      ],
      "metadata": {
        "id": "0eZ_I9fUAvYe"
      }
    },
    {
      "cell_type": "code",
      "source": [],
      "metadata": {
        "id": "lFuMfXuJAst0"
      },
      "execution_count": null,
      "outputs": []
    },
    {
      "cell_type": "markdown",
      "source": [],
      "metadata": {
        "id": "oCoeKkjQAprT"
      }
    },
    {
      "cell_type": "markdown",
      "source": [
        "# Manipulation de données\n",
        "\n",
        "- Listes: méthodes append, extend, pop, index\n",
        "- Dictionnaires: ajout/suppression de clés, méthode get\n",
        "- Compréhensions de liste"
      ],
      "metadata": {
        "id": "purNymb1_Q9q"
      }
    },
    {
      "cell_type": "markdown",
      "source": [
        "## Exercice 4"
      ],
      "metadata": {
        "id": "Ut5hp79J_WCk"
      }
    },
    {
      "cell_type": "code",
      "source": [
        "# 1. Créez une liste de 10 nombres aléatoires entre 1 et 100 :\n",
        "import random"
      ],
      "metadata": {
        "id": "5SmDhywi_VhG"
      },
      "execution_count": null,
      "outputs": []
    },
    {
      "cell_type": "code",
      "source": [
        "#2. Utilisez une compréhension de liste pour créer une nouvelle liste avec les nombres pairs :\n"
      ],
      "metadata": {
        "id": "GDDXpa5R-_ep"
      },
      "execution_count": null,
      "outputs": []
    },
    {
      "cell_type": "code",
      "source": [
        "# 3. Créez un dictionnaire où les clés sont les nombres de la liste originale et les valeurs sont leur carré :\n"
      ],
      "metadata": {
        "id": "_w-9usIJ_lKj"
      },
      "execution_count": null,
      "outputs": []
    },
    {
      "cell_type": "code",
      "source": [],
      "metadata": {
        "id": "wqMeMBY89FlS"
      },
      "execution_count": null,
      "outputs": []
    },
    {
      "cell_type": "markdown",
      "source": [
        "## Exercice 4.2\n",
        "\n",
        "Créez un dictionnaire représentant un petit catalogue de livres, où les clés sont les titres et les valeurs sont des dictionnaires contenant l'auteur et l'année de publication. Ensuite :\n"
      ],
      "metadata": {
        "id": "4uQ8Cy7mA5Xk"
      }
    },
    {
      "cell_type": "code",
      "source": [
        "catalogue = {\n",
        "    \"1984\": {\"auteur\": \"George Orwell\", \"annee\": 1949},\n",
        "    \"Le Petit Prince\": {\"auteur\": \"Antoine de Saint-Exupéry\", \"annee\": 1943},\n",
        "    \"Dune\": {\"auteur\": \"Frank Herbert\", \"annee\": 1965}\n",
        "}\n",
        "\n"
      ],
      "metadata": {
        "id": "gJCkS_-FBAJT"
      },
      "execution_count": null,
      "outputs": []
    },
    {
      "cell_type": "code",
      "source": [
        "#Ajoutez un nouveau livre au catalogue.\n"
      ],
      "metadata": {
        "id": "KjsU1tmrA8UJ"
      },
      "execution_count": null,
      "outputs": []
    },
    {
      "cell_type": "code",
      "source": [
        "#Supprimez un livre du catalogue.\n"
      ],
      "metadata": {
        "id": "xfOqsUB7BG-n"
      },
      "execution_count": null,
      "outputs": []
    },
    {
      "cell_type": "code",
      "source": [
        "#Affichez tous les livres publiés après une certaine année."
      ],
      "metadata": {
        "id": "SLmq1SDZBIT4"
      },
      "execution_count": null,
      "outputs": []
    },
    {
      "cell_type": "markdown",
      "source": [
        "# Exercice 5"
      ],
      "metadata": {
        "id": "Jx5U9iC-9Bsh"
      }
    },
    {
      "cell_type": "code",
      "source": [
        "import pandas as pd\n",
        "\n",
        "data = {\n",
        "    'marque': ['Toyota', 'Honda', 'Ford', 'Audi', 'BMW', 'Mercedes', 'Volkswagen', 'Tesla', 'Nissan', 'Hyundai'],\n",
        "    'modele': ['Corolla', 'Civic', 'Focus', 'A4', '3 Series', 'C-Class', 'Golf', 'Model 3', 'Altima', 'Elantra'],\n",
        "    'annee': [2019, 2020, 2018, 2021, 2022, 2020, 2019, 2022, 2021, 2020],\n",
        "    'kilometrage': [35000, 28000, 42000, 15000, 8000, 30000, 38000, 12000, 22000, 33000],\n",
        "    'prix': [22000, 24000, 18000, 35000, 42000, 38000, 25000, 48000, 23000, 21000],\n",
        "    'consommation': [6.2, 5.8, 6.5, 7.1, 7.5, 7.3, 6.0, 0, 6.7, 5.9]  # L/100km, 0 pour Tesla (électrique)\n",
        "}\n",
        "\n",
        "\n"
      ],
      "metadata": {
        "id": "Pd3Y3BadBShc"
      },
      "execution_count": null,
      "outputs": []
    },
    {
      "cell_type": "code",
      "source": [
        "#Affichez les 5 premières lignes du DataFrame.\n"
      ],
      "metadata": {
        "id": "RjMVpmE-BSmM"
      },
      "execution_count": null,
      "outputs": []
    },
    {
      "cell_type": "code",
      "source": [
        "#Affichez les informations générales sur le DataFrame (types de données, non-null count, etc.)."
      ],
      "metadata": {
        "id": "daSZqzk4BX9Q"
      },
      "execution_count": null,
      "outputs": []
    },
    {
      "cell_type": "code",
      "source": [
        "#Calculez et affichez les statistiques descriptives du DataFrame."
      ],
      "metadata": {
        "id": "NfCX1I_cBYAx"
      },
      "execution_count": null,
      "outputs": []
    },
    {
      "cell_type": "code",
      "source": [
        "#Sélectionnez toutes les voitures dont le prix est supérieur à 30000."
      ],
      "metadata": {
        "id": "RzrQQjRpBYGP"
      },
      "execution_count": null,
      "outputs": []
    },
    {
      "cell_type": "code",
      "source": [
        "#Trouvez toutes les voitures de la marque \"Toyota\" ou \"Honda\"."
      ],
      "metadata": {
        "id": "yCGSC2cCBgK9"
      },
      "execution_count": null,
      "outputs": []
    },
    {
      "cell_type": "code",
      "source": [
        "#Sélectionnez les colonnes 'marque', 'modele' et 'prix' pour les voitures fabriquées après 2020."
      ],
      "metadata": {
        "id": "8GbJ8VgxBgNz"
      },
      "execution_count": null,
      "outputs": []
    },
    {
      "cell_type": "code",
      "source": [
        "# #Sélectionnez les colonnes 'marque', 'modele' et 'prix' pour les voitures fabriquées après 2020."
      ],
      "metadata": {
        "id": "NaarGGXZBgQa"
      },
      "execution_count": null,
      "outputs": []
    },
    {
      "cell_type": "code",
      "source": [
        "# Ajoutez une nouvelle colonne 'origine' qui indique si la voiture est 'Européenne', 'Asiatique' ou 'Américaine'."
      ],
      "metadata": {
        "id": "LwwtyudLBoaK"
      },
      "execution_count": null,
      "outputs": []
    },
    {
      "cell_type": "code",
      "source": [
        "# Modifiez la colonne 'prix' en appliquant une réduction de 10% à toutes les voitures.\n"
      ],
      "metadata": {
        "id": "dNSqwLj8BodI"
      },
      "execution_count": null,
      "outputs": []
    },
    {
      "cell_type": "code",
      "source": [
        "# Ajoutez une nouvelle ligne au DataFrame pour une nouvelle voiture de votre choix.\n"
      ],
      "metadata": {
        "id": "NCPOkfBUBofn"
      },
      "execution_count": null,
      "outputs": []
    },
    {
      "cell_type": "code",
      "source": [
        "#Calculez le prix moyen des voitures par marque.\n"
      ],
      "metadata": {
        "id": "tCSgZhLVBv-R"
      },
      "execution_count": null,
      "outputs": []
    },
    {
      "cell_type": "code",
      "source": [
        "#Trouvez la voiture la plus récente (année la plus élevée) pour chaque marque.\n"
      ],
      "metadata": {
        "id": "ENshxvO_BwBY"
      },
      "execution_count": null,
      "outputs": []
    },
    {
      "cell_type": "code",
      "source": [
        "#Calculez le kilométrage total pour chaque année de fabrication."
      ],
      "metadata": {
        "id": "7y9nhl8_BwD_"
      },
      "execution_count": null,
      "outputs": []
    },
    {
      "cell_type": "code",
      "source": [
        "#Remplacez la valeur de consommation 0 de Tesla par NaN (Not a Number).\n"
      ],
      "metadata": {
        "id": "z1HcYyX4B28I"
      },
      "execution_count": null,
      "outputs": []
    },
    {
      "cell_type": "code",
      "source": [
        "#Calculez la consommation moyenne en excluant les valeurs NaN.\n"
      ],
      "metadata": {
        "id": "CEByRr9CB2_I"
      },
      "execution_count": null,
      "outputs": []
    },
    {
      "cell_type": "code",
      "source": [
        "#Remplacez les valeurs NaN par la moyenne des autres voitures."
      ],
      "metadata": {
        "id": "T16UlzxyB3B4"
      },
      "execution_count": null,
      "outputs": []
    },
    {
      "cell_type": "code",
      "source": [
        "#Créez une nouvelle colonne 'efficacite' qui est le ratio entre le prix et la consommation (prix / consommation).\n"
      ],
      "metadata": {
        "id": "FVRx42u9CKpY"
      },
      "execution_count": null,
      "outputs": []
    },
    {
      "cell_type": "code",
      "source": [
        "#Utilisez la méthode cut() pour créer une nouvelle colonne 'categorie_prix' qui catégorise les voitures en 'Économique', 'Intermédiaire' et 'Premium' basé sur leur prix.\n"
      ],
      "metadata": {
        "id": "q-fmA6OVCPIi"
      },
      "execution_count": null,
      "outputs": []
    },
    {
      "cell_type": "code",
      "source": [
        "#Pivotez le DataFrame pour obtenir la moyenne des prix par marque et année.\n"
      ],
      "metadata": {
        "id": "81oM1_UHCPL4"
      },
      "execution_count": null,
      "outputs": []
    },
    {
      "cell_type": "code",
      "source": [
        "#Créez un histogramme des prix des voitures.\n"
      ],
      "metadata": {
        "id": "lwYgxrPlCPOH"
      },
      "execution_count": null,
      "outputs": []
    },
    {
      "cell_type": "code",
      "source": [
        "#Créez un graphique en barres montrant le kilométrage moyen par marque.\n"
      ],
      "metadata": {
        "id": "fuXdyWuXCXGI"
      },
      "execution_count": null,
      "outputs": []
    },
    {
      "cell_type": "code",
      "source": [
        "#Créez un nuage de points (scatter plot) du prix en fonction du kilométrage."
      ],
      "metadata": {
        "id": "PU9ahBlICYNi"
      },
      "execution_count": null,
      "outputs": []
    },
    {
      "cell_type": "markdown",
      "source": [],
      "metadata": {
        "id": "34E9ziBi9BvY"
      }
    }
  ]
}